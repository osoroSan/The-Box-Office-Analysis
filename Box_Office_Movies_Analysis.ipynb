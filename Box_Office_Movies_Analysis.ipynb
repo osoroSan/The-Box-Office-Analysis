{
 "cells": [
  {
   "cell_type": "markdown",
   "id": "c6a47cb1",
   "metadata": {},
   "source": [
    "# The Film Industry: Analysis of movies in the Box Office.\n",
    "![Image](./Data/cinema2.jpeg)"
   ]
  },
  {
   "cell_type": "markdown",
   "id": "5dc39dda",
   "metadata": {},
   "source": [
    "## Report Overview.\n",
    "1. Business Understanding\n",
    "1. Data Assembly.\n",
    "2. Data verification.\n",
    "3. Data cleaning.\n",
    "4. Data Analysis.\n",
    "5. Data VIsualization.\n",
    "6. Summary.\n",
    "7. Recommendations.\n"
   ]
  },
  {
   "cell_type": "markdown",
   "id": "8c6259d0",
   "metadata": {},
   "source": [
    "## 1. Business Understanding."
   ]
  },
  {
   "cell_type": "markdown",
   "id": "51771d75",
   "metadata": {},
   "source": [
    "### Client:\n",
    "Microsoft Corporation.\n",
    "### Target : \n",
    "The Head of Microsoft's New Movie studio.\n"
   ]
  },
  {
   "cell_type": "markdown",
   "id": "1acefe9f",
   "metadata": {},
   "source": [
    "### 1.a Introduction.\n",
    "The film industry or motion picture industry comprises the technological and commercial institutions of filmmaking. It dates back to France in 1895 when the first cinematograph was projected. Movie studios earn revenue through:\n",
    "1. Movie theatre ticket sales(The box office).\n",
    "2. Merchandise sales like action figures or branded clothing.\n",
    "3. Television Rights.\n",
    "4. Streaming.\n",
    "5. VOD(video on demand).\n",
    "\n",
    "In 2019, the global box office was worth `$`42.2 billion. When including box office and home entertainment revenue, the global film industry was worth `$`136 billion.\n",
    "The profitability of a film studio is crucially dependent on picking the right film projects and involving the right management and creative teams, but it also depends heavily on choosing the right scale and approach to film promotion, and control over receipts through technologies. In the extreme, for a major media franchise centered on film, the film might itself be only one large component of many large contributions to total franchise revenue.\n",
    "The film industry is a brutally competitive winner-take-all market and is \"extremely volatile\" and it is impossible to predict in advance who will become the market winner at any given moment \"or how long their domination will last\"."
   ]
  },
  {
   "cell_type": "markdown",
   "id": "2c88708b",
   "metadata": {},
   "source": [
    "### 1.b Problem Statement.\n",
    "Due to the increase in profitability of the motion picture industry, many companies have ventured into the market by trying to produce movies and television shows for the target audience.\n",
    "Microsoft Corporation is also looking to diversify into the Film Industry. As a starting point, Microsoft wants to launch a movie studio that can compete with the already established studios that have a market share\n",
    "\n"
   ]
  },
  {
   "cell_type": "markdown",
   "id": "6712511e",
   "metadata": {},
   "source": [
    "### 1.c Objective.\n",
    "1. To analyze movies that have been at the box office.\n",
    "2. To explore what types of films are currently doing the best at the box office.\n",
    "3. To translate those findings into actionable insights.\n",
    "4. To suggest to the client what type of films to create."
   ]
  },
  {
   "cell_type": "markdown",
   "id": "41c60660",
   "metadata": {},
   "source": [
    "## 2. Data Assembly.\n",
    "The datasets provided were outdated hence the datasets used in this report were outsourced from [Kaggle](https://www.kaggle.com/).\n",
    "They are :\n",
    "\n",
    "1. [oscars dataset](https://www.kaggle.com/datasets/pushpakhinglaspure/oscar-dataset)\n",
    "\n",
    "contains Oscar Academy Award-winning films from 1927-2022 and has 1360 rows and 5 columns:\n",
    "\n",
    "|Ind|column|Info|\n",
    "|---|---|---|\n",
    "|0|Index|indices|\n",
    "|1|Film|Movie name|\n",
    "|2|Year|Year of release|\n",
    "|3|Award|Awards won|\n",
    "|4|Nomination|Number of awards nominated for|\n",
    "\n",
    "2. [top 1000 grossing movies](https://www.kaggle.com/datasets/crisleyoliveira/top1000moviesgross)\n",
    "\n",
    "contains the top 1000 grossing movies at the box office.\n",
    "it has 1000 rows and 7 columns\n",
    "the columns are:\n",
    "\n",
    "|Ind|column|Info|\n",
    "|---|---|---|\n",
    "|0|Title|movie name|\n",
    "|1|Year|Year of release|\n",
    "|2|Runtime|length of the movie|\n",
    "|4|Gross|Total revenue earned|\n",
    "|5|ImdbRating|The movie's rating on IMDB|\n",
    "|6|imdbRatingVotes|total rating votes on IMDB|\n",
    "|7|metascoreRating|The movie's rating on Metascore|\n",
    "|8|rottenRating|The movie's rating on Rotten Tomatoes|\n",
    "|9|metacriticRating|The movie's rating on Metacritic|\n",
    "\n",
    "3. Imdb_movies.csv\n",
    "\n",
    "contains 10178 movies and has the following columns:\n",
    "\n",
    "|Ind|column|Info|\n",
    "|---|---|---|\n",
    "|0|names|Movie name|\n",
    "|1|date_x|Year of release|\n",
    "|2|score|rating|\n",
    "|3|genre|type of movie|\n",
    "|4|overview|short description|\n",
    "|5|crew|cast|\n",
    "|6|orig_title|Movie name|\n",
    "|7|status|released or not released|\n",
    "|8|orig_lang|language spoken|\n",
    "|9|budget_x|Number of awards nominated for|\n",
    "|10|revenue|total revenue|\n",
    "|11|country|country of origin|\n",
    "\n",
    "4. [IMDB_Most_Popular_Movies](https://www.kaggle.com/datasets/ifeoluwafaromika/23000-imdb-most-popular-movies)\n",
    "\n",
    "contains 23096 movies with the following columns\n",
    "\n",
    "|Ind|column|Info|\n",
    "|---|---|---|\n",
    "|0|movie|movie name|\n",
    "|1|year|year of release|\n",
    "|2|category|target audience|\n",
    "|3|duration|runtime|\n",
    "|4|genres|movie type|\n",
    "|5|rating|movie rating|\n",
    "|6|tagline|catchphrase|\n",
    "|7|director|movie director|\n",
    "|8|stars|cast|\n",
    "|9|votes|number of votes used to rate|"
   ]
  },
  {
   "cell_type": "code",
   "execution_count": 120,
   "id": "64dee04d",
   "metadata": {},
   "outputs": [],
   "source": [
    "# importing the necessary libraries\n",
    "import numpy as np\n",
    "import pandas as pd\n",
    "import seaborn as sns\n",
    "import matplotlib.pyplot as plt\n",
    "%matplotlib inline"
   ]
  },
  {
   "cell_type": "markdown",
   "id": "dd3f9696",
   "metadata": {},
   "source": [
    "## 3.Data Verification.\n",
    "Reading the data to make sure it is valid and that we have the expected entries."
   ]
  },
  {
   "cell_type": "code",
   "execution_count": 121,
   "id": "82eca5a5",
   "metadata": {},
   "outputs": [
    {
     "data": {
      "text/html": [
       "<div>\n",
       "<style scoped>\n",
       "    .dataframe tbody tr th:only-of-type {\n",
       "        vertical-align: middle;\n",
       "    }\n",
       "\n",
       "    .dataframe tbody tr th {\n",
       "        vertical-align: top;\n",
       "    }\n",
       "\n",
       "    .dataframe thead th {\n",
       "        text-align: right;\n",
       "    }\n",
       "</style>\n",
       "<table border=\"1\" class=\"dataframe\">\n",
       "  <thead>\n",
       "    <tr style=\"text-align: right;\">\n",
       "      <th></th>\n",
       "      <th>Unnamed: 0</th>\n",
       "      <th>Film</th>\n",
       "      <th>Year</th>\n",
       "      <th>Award</th>\n",
       "      <th>Nomination</th>\n",
       "    </tr>\n",
       "  </thead>\n",
       "  <tbody>\n",
       "    <tr>\n",
       "      <th>0</th>\n",
       "      <td>0</td>\n",
       "      <td>Everything Everywhere All at Once</td>\n",
       "      <td>2022</td>\n",
       "      <td>7</td>\n",
       "      <td>11</td>\n",
       "    </tr>\n",
       "    <tr>\n",
       "      <th>1</th>\n",
       "      <td>1</td>\n",
       "      <td>All Quiet on the Western Front</td>\n",
       "      <td>2022</td>\n",
       "      <td>4</td>\n",
       "      <td>9</td>\n",
       "    </tr>\n",
       "  </tbody>\n",
       "</table>\n",
       "</div>"
      ],
      "text/plain": [
       "   Unnamed: 0                               Film  Year  Award  Nomination\n",
       "0           0  Everything Everywhere All at Once  2022      7          11\n",
       "1           1     All Quiet on the Western Front  2022      4           9"
      ]
     },
     "execution_count": 121,
     "metadata": {},
     "output_type": "execute_result"
    }
   ],
   "source": [
    "#loading the 'oscar.csv' data using pandas\n",
    "oscar_movies=pd.read_csv('Data/oscar.csv')\n",
    "#printing the first two movies\n",
    "oscar_movies.head(2)"
   ]
  },
  {
   "cell_type": "code",
   "execution_count": 122,
   "id": "0c6de161",
   "metadata": {},
   "outputs": [
    {
     "data": {
      "text/html": [
       "<div>\n",
       "<style scoped>\n",
       "    .dataframe tbody tr th:only-of-type {\n",
       "        vertical-align: middle;\n",
       "    }\n",
       "\n",
       "    .dataframe tbody tr th {\n",
       "        vertical-align: top;\n",
       "    }\n",
       "\n",
       "    .dataframe thead th {\n",
       "        text-align: right;\n",
       "    }\n",
       "</style>\n",
       "<table border=\"1\" class=\"dataframe\">\n",
       "  <thead>\n",
       "    <tr style=\"text-align: right;\">\n",
       "      <th></th>\n",
       "      <th>names</th>\n",
       "      <th>date_x</th>\n",
       "      <th>score</th>\n",
       "      <th>genre</th>\n",
       "      <th>overview</th>\n",
       "      <th>crew</th>\n",
       "      <th>orig_title</th>\n",
       "      <th>status</th>\n",
       "      <th>orig_lang</th>\n",
       "      <th>budget_x</th>\n",
       "      <th>revenue</th>\n",
       "      <th>country</th>\n",
       "    </tr>\n",
       "  </thead>\n",
       "  <tbody>\n",
       "    <tr>\n",
       "      <th>0</th>\n",
       "      <td>Creed III</td>\n",
       "      <td>03/02/2023</td>\n",
       "      <td>73.0</td>\n",
       "      <td>Drama, Action</td>\n",
       "      <td>After dominating the boxing world, Adonis Cree...</td>\n",
       "      <td>Michael B. Jordan, Adonis Creed, Tessa Thompso...</td>\n",
       "      <td>Creed III</td>\n",
       "      <td>Released</td>\n",
       "      <td>English</td>\n",
       "      <td>75000000.0</td>\n",
       "      <td>2.716167e+08</td>\n",
       "      <td>AU</td>\n",
       "    </tr>\n",
       "    <tr>\n",
       "      <th>1</th>\n",
       "      <td>Avatar: The Way of Water</td>\n",
       "      <td>12/15/2022</td>\n",
       "      <td>78.0</td>\n",
       "      <td>Science Fiction, Adventure, Action</td>\n",
       "      <td>Set more than a decade after the events of the...</td>\n",
       "      <td>Sam Worthington, Jake Sully, Zoe Saldaña, Neyt...</td>\n",
       "      <td>Avatar: The Way of Water</td>\n",
       "      <td>Released</td>\n",
       "      <td>English</td>\n",
       "      <td>460000000.0</td>\n",
       "      <td>2.316795e+09</td>\n",
       "      <td>AU</td>\n",
       "    </tr>\n",
       "  </tbody>\n",
       "</table>\n",
       "</div>"
      ],
      "text/plain": [
       "                      names       date_x  score  \\\n",
       "0                 Creed III  03/02/2023    73.0   \n",
       "1  Avatar: The Way of Water  12/15/2022    78.0   \n",
       "\n",
       "                                genre  \\\n",
       "0                       Drama, Action   \n",
       "1  Science Fiction, Adventure, Action   \n",
       "\n",
       "                                            overview  \\\n",
       "0  After dominating the boxing world, Adonis Cree...   \n",
       "1  Set more than a decade after the events of the...   \n",
       "\n",
       "                                                crew  \\\n",
       "0  Michael B. Jordan, Adonis Creed, Tessa Thompso...   \n",
       "1  Sam Worthington, Jake Sully, Zoe Saldaña, Neyt...   \n",
       "\n",
       "                 orig_title     status orig_lang     budget_x       revenue  \\\n",
       "0                 Creed III   Released   English   75000000.0  2.716167e+08   \n",
       "1  Avatar: The Way of Water   Released   English  460000000.0  2.316795e+09   \n",
       "\n",
       "  country  \n",
       "0      AU  \n",
       "1      AU  "
      ]
     },
     "execution_count": 122,
     "metadata": {},
     "output_type": "execute_result"
    }
   ],
   "source": [
    "#loading the 'Imdb_movies.csv' data using pandas\n",
    "imdb_movies=pd.read_csv('Data/Imdb_movies.csv')\n",
    "#printing the first two movies\n",
    "imdb_movies.head(2)"
   ]
  },
  {
   "cell_type": "code",
   "execution_count": 123,
   "id": "17953e4d",
   "metadata": {},
   "outputs": [
    {
     "data": {
      "text/html": [
       "<div>\n",
       "<style scoped>\n",
       "    .dataframe tbody tr th:only-of-type {\n",
       "        vertical-align: middle;\n",
       "    }\n",
       "\n",
       "    .dataframe tbody tr th {\n",
       "        vertical-align: top;\n",
       "    }\n",
       "\n",
       "    .dataframe thead th {\n",
       "        text-align: right;\n",
       "    }\n",
       "</style>\n",
       "<table border=\"1\" class=\"dataframe\">\n",
       "  <thead>\n",
       "    <tr style=\"text-align: right;\">\n",
       "      <th></th>\n",
       "      <th>Title</th>\n",
       "      <th>Year</th>\n",
       "      <th>Genre</th>\n",
       "      <th>Runtime</th>\n",
       "      <th>Gross</th>\n",
       "      <th>imdbRating</th>\n",
       "      <th>imdbRatingVotes</th>\n",
       "      <th>metascoreRating</th>\n",
       "      <th>rottenRating</th>\n",
       "      <th>metacriticRating</th>\n",
       "    </tr>\n",
       "  </thead>\n",
       "  <tbody>\n",
       "    <tr>\n",
       "      <th>0</th>\n",
       "      <td>Avatar</td>\n",
       "      <td>2009</td>\n",
       "      <td>Action, Adventure, Fantasy</td>\n",
       "      <td>162.0</td>\n",
       "      <td>2923706026</td>\n",
       "      <td>7.9</td>\n",
       "      <td>1313610</td>\n",
       "      <td>83.0</td>\n",
       "      <td>82</td>\n",
       "      <td>83</td>\n",
       "    </tr>\n",
       "    <tr>\n",
       "      <th>1</th>\n",
       "      <td>Avengers: Endgame</td>\n",
       "      <td>2019</td>\n",
       "      <td>Action, Adventure, Drama</td>\n",
       "      <td>181.0</td>\n",
       "      <td>2799439100</td>\n",
       "      <td>8.4</td>\n",
       "      <td>1141629</td>\n",
       "      <td>78.0</td>\n",
       "      <td>94</td>\n",
       "      <td>78</td>\n",
       "    </tr>\n",
       "  </tbody>\n",
       "</table>\n",
       "</div>"
      ],
      "text/plain": [
       "               Title  Year                       Genre  Runtime       Gross  \\\n",
       "0             Avatar  2009  Action, Adventure, Fantasy    162.0  2923706026   \n",
       "1  Avengers: Endgame  2019    Action, Adventure, Drama    181.0  2799439100   \n",
       "\n",
       "   imdbRating  imdbRatingVotes  metascoreRating  rottenRating  \\\n",
       "0         7.9          1313610             83.0            82   \n",
       "1         8.4          1141629             78.0            94   \n",
       "\n",
       "   metacriticRating  \n",
       "0                83  \n",
       "1                78  "
      ]
     },
     "execution_count": 123,
     "metadata": {},
     "output_type": "execute_result"
    }
   ],
   "source": [
    "#loading the 'top1000movies.csv' data using pandas\n",
    "top_1000_movies=pd.read_csv('Data/top1000movies.csv')\n",
    "#printing the first two movies\n",
    "top_1000_movies.head(2)"
   ]
  },
  {
   "cell_type": "code",
   "execution_count": 124,
   "id": "f2fe939b",
   "metadata": {},
   "outputs": [
    {
     "data": {
      "text/html": [
       "<div>\n",
       "<style scoped>\n",
       "    .dataframe tbody tr th:only-of-type {\n",
       "        vertical-align: middle;\n",
       "    }\n",
       "\n",
       "    .dataframe tbody tr th {\n",
       "        vertical-align: top;\n",
       "    }\n",
       "\n",
       "    .dataframe thead th {\n",
       "        text-align: right;\n",
       "    }\n",
       "</style>\n",
       "<table border=\"1\" class=\"dataframe\">\n",
       "  <thead>\n",
       "    <tr style=\"text-align: right;\">\n",
       "      <th></th>\n",
       "      <th>movie</th>\n",
       "      <th>year</th>\n",
       "      <th>category</th>\n",
       "      <th>duration</th>\n",
       "      <th>genres</th>\n",
       "      <th>rating</th>\n",
       "      <th>tagline</th>\n",
       "      <th>director</th>\n",
       "      <th>stars</th>\n",
       "      <th>votes</th>\n",
       "    </tr>\n",
       "  </thead>\n",
       "  <tbody>\n",
       "    <tr>\n",
       "      <th>0</th>\n",
       "      <td>Range 15</td>\n",
       "      <td>2016</td>\n",
       "      <td>TV-MA</td>\n",
       "      <td>89</td>\n",
       "      <td>Action, Comedy, Horror</td>\n",
       "      <td>4.3</td>\n",
       "      <td>Veterans wake up after a night of partying to ...</td>\n",
       "      <td>Ross Patterson</td>\n",
       "      <td>Sean Astin, Keith David, Danny Trejo, William ...</td>\n",
       "      <td>5010</td>\n",
       "    </tr>\n",
       "    <tr>\n",
       "      <th>1</th>\n",
       "      <td>Snake in the Eagle's Shadow</td>\n",
       "      <td>1978</td>\n",
       "      <td>PG</td>\n",
       "      <td>90</td>\n",
       "      <td>Action, Comedy</td>\n",
       "      <td>7.3</td>\n",
       "      <td>An orphan who has been raised at a kung fu sch...</td>\n",
       "      <td>Woo-Ping Yuen</td>\n",
       "      <td>Jackie Chan, Siu-Tin Yuen, Jeong-lee Hwang, De...</td>\n",
       "      <td>12191</td>\n",
       "    </tr>\n",
       "  </tbody>\n",
       "</table>\n",
       "</div>"
      ],
      "text/plain": [
       "                         movie  year category  duration  \\\n",
       "0                     Range 15  2016    TV-MA        89   \n",
       "1  Snake in the Eagle's Shadow  1978       PG        90   \n",
       "\n",
       "                   genres  rating  \\\n",
       "0  Action, Comedy, Horror     4.3   \n",
       "1          Action, Comedy     7.3   \n",
       "\n",
       "                                             tagline        director  \\\n",
       "0  Veterans wake up after a night of partying to ...  Ross Patterson   \n",
       "1  An orphan who has been raised at a kung fu sch...   Woo-Ping Yuen   \n",
       "\n",
       "                                               stars  votes  \n",
       "0  Sean Astin, Keith David, Danny Trejo, William ...   5010  \n",
       "1  Jackie Chan, Siu-Tin Yuen, Jeong-lee Hwang, De...  12191  "
      ]
     },
     "execution_count": 124,
     "metadata": {},
     "output_type": "execute_result"
    }
   ],
   "source": [
    "#loading the 'IMDB_Most_Popular_Movies.csv' data using pandas\n",
    "most_popular_movies=pd.read_csv('Data/IMDB_Most_Popular_Movies.csv')\n",
    "#printing the first two movies\n",
    "most_popular_movies.head(2)"
   ]
  },
  {
   "cell_type": "markdown",
   "id": "e11f0a8c",
   "metadata": {},
   "source": [
    "## 3. Data cleaning.\n",
    "For each of the datasets, I am going to:\n",
    "1. Remove the irrelevant columns \n",
    "2. Remove any of the entries that contain NaN values.\n",
    "3. Rename columns to achieve naming consistency in all subsets."
   ]
  },
  {
   "cell_type": "code",
   "execution_count": 125,
   "id": "adfa239a",
   "metadata": {},
   "outputs": [
    {
     "data": {
      "text/html": [
       "<div>\n",
       "<style scoped>\n",
       "    .dataframe tbody tr th:only-of-type {\n",
       "        vertical-align: middle;\n",
       "    }\n",
       "\n",
       "    .dataframe tbody tr th {\n",
       "        vertical-align: top;\n",
       "    }\n",
       "\n",
       "    .dataframe thead th {\n",
       "        text-align: right;\n",
       "    }\n",
       "</style>\n",
       "<table border=\"1\" class=\"dataframe\">\n",
       "  <thead>\n",
       "    <tr style=\"text-align: right;\">\n",
       "      <th></th>\n",
       "      <th>movie_name</th>\n",
       "      <th>year</th>\n",
       "      <th>Award</th>\n",
       "      <th>Nomination</th>\n",
       "    </tr>\n",
       "  </thead>\n",
       "  <tbody>\n",
       "    <tr>\n",
       "      <th>0</th>\n",
       "      <td>Everything Everywhere All at Once</td>\n",
       "      <td>2022</td>\n",
       "      <td>7</td>\n",
       "      <td>11</td>\n",
       "    </tr>\n",
       "    <tr>\n",
       "      <th>1</th>\n",
       "      <td>All Quiet on the Western Front</td>\n",
       "      <td>2022</td>\n",
       "      <td>4</td>\n",
       "      <td>9</td>\n",
       "    </tr>\n",
       "  </tbody>\n",
       "</table>\n",
       "</div>"
      ],
      "text/plain": [
       "                          movie_name  year  Award  Nomination\n",
       "0  Everything Everywhere All at Once  2022      7          11\n",
       "1     All Quiet on the Western Front  2022      4           9"
      ]
     },
     "execution_count": 125,
     "metadata": {},
     "output_type": "execute_result"
    }
   ],
   "source": [
    "##cleaning the 'oscar.csv' dataset\n",
    "\n",
    "#removing the first column which contains indices for the movies.\n",
    "oscar_movies.drop(['Unnamed: 0'],axis=1,inplace=True)\n",
    "\n",
    "#renaming the column names to achieve naming consistency in all datasets\n",
    "oscar_movies.rename(columns={'Film':'movie_name','Year':'year'},inplace=True)\n",
    "\n",
    "#drop any rows in dataset that have NaN values\n",
    "oscar_movies.dropna()\n",
    "\n",
    "#drop duplicates\n",
    "oscar_movies.drop_duplicates(inplace=True)\n",
    "\n",
    "#printing the first two movies\n",
    "oscar_movies.head(2)"
   ]
  },
  {
   "cell_type": "code",
   "execution_count": 126,
   "id": "d7855608",
   "metadata": {},
   "outputs": [
    {
     "data": {
      "text/html": [
       "<div>\n",
       "<style scoped>\n",
       "    .dataframe tbody tr th:only-of-type {\n",
       "        vertical-align: middle;\n",
       "    }\n",
       "\n",
       "    .dataframe tbody tr th {\n",
       "        vertical-align: top;\n",
       "    }\n",
       "\n",
       "    .dataframe thead th {\n",
       "        text-align: right;\n",
       "    }\n",
       "</style>\n",
       "<table border=\"1\" class=\"dataframe\">\n",
       "  <thead>\n",
       "    <tr style=\"text-align: right;\">\n",
       "      <th></th>\n",
       "      <th>movie_name</th>\n",
       "      <th>year</th>\n",
       "      <th>genre</th>\n",
       "      <th>cast</th>\n",
       "      <th>language</th>\n",
       "      <th>budget</th>\n",
       "      <th>revenue</th>\n",
       "      <th>country</th>\n",
       "    </tr>\n",
       "  </thead>\n",
       "  <tbody>\n",
       "    <tr>\n",
       "      <th>0</th>\n",
       "      <td>Creed III</td>\n",
       "      <td>2023</td>\n",
       "      <td>Drama, Action</td>\n",
       "      <td>Michael B. Jordan, Adonis Creed, Tessa Thompso...</td>\n",
       "      <td>English</td>\n",
       "      <td>75000000.0</td>\n",
       "      <td>2.716167e+08</td>\n",
       "      <td>AU</td>\n",
       "    </tr>\n",
       "    <tr>\n",
       "      <th>1</th>\n",
       "      <td>Avatar: The Way of Water</td>\n",
       "      <td>2022</td>\n",
       "      <td>Science Fiction, Adventure, Action</td>\n",
       "      <td>Sam Worthington, Jake Sully, Zoe Saldaña, Neyt...</td>\n",
       "      <td>English</td>\n",
       "      <td>460000000.0</td>\n",
       "      <td>2.316795e+09</td>\n",
       "      <td>AU</td>\n",
       "    </tr>\n",
       "  </tbody>\n",
       "</table>\n",
       "</div>"
      ],
      "text/plain": [
       "                 movie_name  year                               genre  \\\n",
       "0                 Creed III  2023                       Drama, Action   \n",
       "1  Avatar: The Way of Water  2022  Science Fiction, Adventure, Action   \n",
       "\n",
       "                                                cast  language       budget  \\\n",
       "0  Michael B. Jordan, Adonis Creed, Tessa Thompso...   English   75000000.0   \n",
       "1  Sam Worthington, Jake Sully, Zoe Saldaña, Neyt...   English  460000000.0   \n",
       "\n",
       "        revenue country  \n",
       "0  2.716167e+08      AU  \n",
       "1  2.316795e+09      AU  "
      ]
     },
     "execution_count": 126,
     "metadata": {},
     "output_type": "execute_result"
    }
   ],
   "source": [
    "#cleaning the 'Imdb_movies.csv' dataset\n",
    "#droping irrelevant columns\n",
    "imdb_movies.drop(['overview','orig_title','score','status'],axis=1,inplace=True)\n",
    "\n",
    "#renaming the column names to achieve naming consistency in all datasets\n",
    "imdb_movies.rename(\n",
    "columns={'names':'movie_name','date_x':'year','crew':'cast',\n",
    "         'orig_lang':'language','budget_x':'budget',},inplace=True)\n",
    "\n",
    "#updating year column to only show year and not the exact date\n",
    "imdb_movies['year']=pd.Series(pd.to_datetime(imdb_movies['year']).dt.year)\n",
    "\n",
    "#drop duplicates\n",
    "imdb_movies.drop_duplicates(inplace=True)\n",
    "\n",
    "#drop any rows in dataset that have NaN values\n",
    "imdb_movies.dropna()\n",
    "\n",
    "#printing the first two movies\n",
    "imdb_movies.head(2)"
   ]
  },
  {
   "cell_type": "code",
   "execution_count": 127,
   "id": "8ec55b35",
   "metadata": {},
   "outputs": [
    {
     "data": {
      "text/html": [
       "<div>\n",
       "<style scoped>\n",
       "    .dataframe tbody tr th:only-of-type {\n",
       "        vertical-align: middle;\n",
       "    }\n",
       "\n",
       "    .dataframe tbody tr th {\n",
       "        vertical-align: top;\n",
       "    }\n",
       "\n",
       "    .dataframe thead th {\n",
       "        text-align: right;\n",
       "    }\n",
       "</style>\n",
       "<table border=\"1\" class=\"dataframe\">\n",
       "  <thead>\n",
       "    <tr style=\"text-align: right;\">\n",
       "      <th></th>\n",
       "      <th>movie_name</th>\n",
       "      <th>year</th>\n",
       "      <th>genre</th>\n",
       "      <th>runtime</th>\n",
       "      <th>revenue</th>\n",
       "      <th>imdbRating</th>\n",
       "      <th>imdbRatingVotes</th>\n",
       "      <th>metascoreRating</th>\n",
       "      <th>rottenRating</th>\n",
       "      <th>metacriticRating</th>\n",
       "    </tr>\n",
       "  </thead>\n",
       "  <tbody>\n",
       "    <tr>\n",
       "      <th>0</th>\n",
       "      <td>Avatar</td>\n",
       "      <td>2009</td>\n",
       "      <td>Action, Adventure, Fantasy</td>\n",
       "      <td>162.0</td>\n",
       "      <td>2923706026</td>\n",
       "      <td>7.9</td>\n",
       "      <td>1313610</td>\n",
       "      <td>83.0</td>\n",
       "      <td>82</td>\n",
       "      <td>83</td>\n",
       "    </tr>\n",
       "    <tr>\n",
       "      <th>1</th>\n",
       "      <td>Avengers: Endgame</td>\n",
       "      <td>2019</td>\n",
       "      <td>Action, Adventure, Drama</td>\n",
       "      <td>181.0</td>\n",
       "      <td>2799439100</td>\n",
       "      <td>8.4</td>\n",
       "      <td>1141629</td>\n",
       "      <td>78.0</td>\n",
       "      <td>94</td>\n",
       "      <td>78</td>\n",
       "    </tr>\n",
       "  </tbody>\n",
       "</table>\n",
       "</div>"
      ],
      "text/plain": [
       "          movie_name  year                       genre  runtime     revenue  \\\n",
       "0             Avatar  2009  Action, Adventure, Fantasy    162.0  2923706026   \n",
       "1  Avengers: Endgame  2019    Action, Adventure, Drama    181.0  2799439100   \n",
       "\n",
       "   imdbRating  imdbRatingVotes  metascoreRating  rottenRating  \\\n",
       "0         7.9          1313610             83.0            82   \n",
       "1         8.4          1141629             78.0            94   \n",
       "\n",
       "   metacriticRating  \n",
       "0                83  \n",
       "1                78  "
      ]
     },
     "execution_count": 127,
     "metadata": {},
     "output_type": "execute_result"
    }
   ],
   "source": [
    "#cleaning the 'top1000movies.csv' dataset\n",
    "\n",
    "#drop any rows in dataset that have NaN values\n",
    "top_1000_movies.dropna()\n",
    "\n",
    "#drop duplicates\n",
    "top_1000_movies.drop_duplicates(inplace=True)\n",
    "\n",
    "#renaming the column names to achieve naming consistency in all datasets\n",
    "top_1000_movies.rename(\n",
    "    columns={'Title':'movie_name','Year':'year','Gross':'revenue',\n",
    "             'Genre':'genre','Runtime':'runtime'},inplace=True)\n",
    "\n",
    "#printing the first two movies\n",
    "top_1000_movies.head(2)\n"
   ]
  },
  {
   "cell_type": "code",
   "execution_count": 128,
   "id": "30d3f723",
   "metadata": {},
   "outputs": [
    {
     "data": {
      "text/html": [
       "<div>\n",
       "<style scoped>\n",
       "    .dataframe tbody tr th:only-of-type {\n",
       "        vertical-align: middle;\n",
       "    }\n",
       "\n",
       "    .dataframe tbody tr th {\n",
       "        vertical-align: top;\n",
       "    }\n",
       "\n",
       "    .dataframe thead th {\n",
       "        text-align: right;\n",
       "    }\n",
       "</style>\n",
       "<table border=\"1\" class=\"dataframe\">\n",
       "  <thead>\n",
       "    <tr style=\"text-align: right;\">\n",
       "      <th></th>\n",
       "      <th>movie_name</th>\n",
       "      <th>year</th>\n",
       "      <th>category</th>\n",
       "      <th>runtime</th>\n",
       "      <th>genre</th>\n",
       "      <th>imdbRating</th>\n",
       "      <th>director</th>\n",
       "      <th>cast</th>\n",
       "    </tr>\n",
       "  </thead>\n",
       "  <tbody>\n",
       "    <tr>\n",
       "      <th>0</th>\n",
       "      <td>Range 15</td>\n",
       "      <td>2016</td>\n",
       "      <td>TV-MA</td>\n",
       "      <td>89</td>\n",
       "      <td>Action, Comedy, Horror</td>\n",
       "      <td>4.3</td>\n",
       "      <td>Ross Patterson</td>\n",
       "      <td>Sean Astin, Keith David, Danny Trejo, William ...</td>\n",
       "    </tr>\n",
       "    <tr>\n",
       "      <th>1</th>\n",
       "      <td>Snake in the Eagle's Shadow</td>\n",
       "      <td>1978</td>\n",
       "      <td>PG</td>\n",
       "      <td>90</td>\n",
       "      <td>Action, Comedy</td>\n",
       "      <td>7.3</td>\n",
       "      <td>Woo-Ping Yuen</td>\n",
       "      <td>Jackie Chan, Siu-Tin Yuen, Jeong-lee Hwang, De...</td>\n",
       "    </tr>\n",
       "  </tbody>\n",
       "</table>\n",
       "</div>"
      ],
      "text/plain": [
       "                    movie_name  year category  runtime  \\\n",
       "0                     Range 15  2016    TV-MA       89   \n",
       "1  Snake in the Eagle's Shadow  1978       PG       90   \n",
       "\n",
       "                    genre  imdbRating        director  \\\n",
       "0  Action, Comedy, Horror         4.3  Ross Patterson   \n",
       "1          Action, Comedy         7.3   Woo-Ping Yuen   \n",
       "\n",
       "                                                cast  \n",
       "0  Sean Astin, Keith David, Danny Trejo, William ...  \n",
       "1  Jackie Chan, Siu-Tin Yuen, Jeong-lee Hwang, De...  "
      ]
     },
     "execution_count": 128,
     "metadata": {},
     "output_type": "execute_result"
    }
   ],
   "source": [
    "#cleaning the 'IMDB_Most_Popular_Movies.csv' dataset\n",
    "\n",
    "#drop any rows in dataset that have NaN values\n",
    "most_popular_movies.dropna()\n",
    "\n",
    "#dropping irrelevant columns\n",
    "most_popular_movies.drop(['tagline','votes'],axis=1,inplace=True)\n",
    "\n",
    "#renaming the column names to achieve naming consistency in all datasets\n",
    "most_popular_movies.rename(columns={'rating':'imdbRating','stars':'cast','genres':'genre',\n",
    "                                    'duration':'runtime','movie':'movie_name'},inplace=True)\n",
    "\n",
    "#printing the first two movies\n",
    "most_popular_movies.head(2)"
   ]
  },
  {
   "cell_type": "markdown",
   "id": "df2f1c2a",
   "metadata": {},
   "source": [
    "### Cleaned Data\n",
    "From our datasets, we have cleaned and obtained the following subsets:\n",
    "1. oscar_movies... (oscar winning movies)\n",
    "2. imdb_movies... (random movies on IMDb)\n",
    "3. Top_1000_movies... (top 1000 grossing movies)\n",
    "4. most_popular_movies... (most popular movies on IMDb)\n",
    "we are not merging the subsets into one because I want them to retain their unique features. Instead, during analysis we will be pulling only the required features from each subset and merging them where necessary."
   ]
  },
  {
   "cell_type": "markdown",
   "id": "6cf91760",
   "metadata": {},
   "source": [
    "## 4. Data Analysis.\n",
    "In this section, I will analyze the subsets created. I am going to focus on four categories:\n",
    "\n",
    "1. BUDGET.\n",
    "    1. Budget vs revenue: I will determine if the amount of budget allocated affects the revenue\n",
    "\n",
    "    2. Budget vs rating: I will determine if the amount of budget allocated affects the rating received\n",
    "\n",
    "2. GENRE\n",
    "\n",
    "    1. Genre vs Oscars: I will determine what genres won more Oscars\n",
    "\n",
    "    2. Genre vs revenue. I will determine if some genres return more revenue than others\n",
    "\n",
    "3. MOVIE GUIDELINE CATEGORY\n",
    "\n",
    "I will determine if the movie guideline given eg PG13 affects revenue\n",
    "\n",
    "4. LANGUAGE\n",
    "\n",
    "I will determine if the spoken language inthe movie affects revenue\n",
    "\n"
   ]
  },
  {
   "cell_type": "markdown",
   "id": "c6a50df6",
   "metadata": {},
   "source": [
    "### 4.1 BUDGET."
   ]
  },
  {
   "cell_type": "markdown",
   "id": "1b6b274a",
   "metadata": {},
   "source": [
    "As a start point, we will find basic budget statistics."
   ]
  },
  {
   "cell_type": "code",
   "execution_count": 129,
   "id": "4efbe26a",
   "metadata": {},
   "outputs": [
    {
     "data": {
      "text/plain": [
       "0.6738295691763746"
      ]
     },
     "execution_count": 129,
     "metadata": {},
     "output_type": "execute_result"
    }
   ],
   "source": [
    "##average movie buget\n",
    "budget_mean=imdb_movies['budget'].mean()\n",
    "#64882378.890921585\n",
    "##most common movie budget\n",
    "most_common_budget=imdb_movies['budget'].value_counts().head(1).index.values[0]\n",
    "#20000000.0\n",
    "##median movie budget\n",
    "median_budget=imdb_movies['budget'].median()\n",
    "#50000000.0\n",
    "##correlation between budget and revenue\n",
    "imdb_movies['budget'].corr(imdb_movies['revenue'])\n",
    "#0.6738295691763746"
   ]
  },
  {
   "cell_type": "markdown",
   "id": "68085a0c",
   "metadata": {},
   "source": [
    "#### Movie budget statistic results \n",
    "1. The average movie budget is `$`64,882,378\n",
    "2. The most common movie budget is `$`20,000,000\n",
    "3. The median movie budget is `$`50,000,000\n",
    "4. The correlation between movie budget and revenue is 0.674.\n"
   ]
  },
  {
   "cell_type": "markdown",
   "id": "754fd211",
   "metadata": {},
   "source": [
    "#### Recommendations:\n",
    "1. In order to produce a good movie, the budget should be a minimum of `$` 20,000,000.\n",
    "2. There is a strong correlation between budget and revenue, hence the movie studio should assign a significant budget to each movie"
   ]
  },
  {
   "cell_type": "markdown",
   "id": "71bb1787",
   "metadata": {},
   "source": [
    "#### Below is a bar graph showing the relationship between budget and revenue for the top 10 grossing movies :"
   ]
  },
  {
   "cell_type": "code",
   "execution_count": 130,
   "id": "ad72efd3",
   "metadata": {},
   "outputs": [
    {
     "data": {
      "image/png": "[encoded data removed]",
      "text/plain": [
       "<Figure size 640x480 with 1 Axes>"
      ]
     },
     "metadata": {},
     "output_type": "display_data"
    }
   ],
   "source": [
    "width = 0.6\n",
    "labels=imdb_movies['movie_name'][0:10]\n",
    "budgets=imdb_movies['budget'][0:10]\n",
    "revenues=imdb_movies['revenue'][0:10]\n",
    "fig, ax = plt.subplots()\n",
    "plt.xticks(rotation='vertical')\n",
    "\n",
    "ax.bar(labels, budgets, width,\n",
    "\tlabel ='budget')\n",
    "\n",
    "ax.bar(labels, revenues, width,\n",
    "\tbottom = budgets,\n",
    "\tlabel ='revenue')\n",
    "ax.legend()\n",
    "\n",
    "ax.set_title('top 10 grossing movies and their budgets')\n",
    "plt.show()\n"
   ]
  },
  {
   "cell_type": "markdown",
   "id": "d84aabaf",
   "metadata": {},
   "source": [
    "### 4.1.a Budget vs Revenue."
   ]
  },
  {
   "cell_type": "code",
   "execution_count": 131,
   "id": "1243f835",
   "metadata": {},
   "outputs": [
    {
     "data": {
      "text/html": [
       "<div>\n",
       "<style scoped>\n",
       "    .dataframe tbody tr th:only-of-type {\n",
       "        vertical-align: middle;\n",
       "    }\n",
       "\n",
       "    .dataframe tbody tr th {\n",
       "        vertical-align: top;\n",
       "    }\n",
       "\n",
       "    .dataframe thead th {\n",
       "        text-align: right;\n",
       "    }\n",
       "</style>\n",
       "<table border=\"1\" class=\"dataframe\">\n",
       "  <thead>\n",
       "    <tr style=\"text-align: right;\">\n",
       "      <th></th>\n",
       "      <th>movie_name</th>\n",
       "      <th>budget</th>\n",
       "      <th>revenue_y</th>\n",
       "    </tr>\n",
       "  </thead>\n",
       "  <tbody>\n",
       "    <tr>\n",
       "      <th>73</th>\n",
       "      <td>Avatar</td>\n",
       "      <td>237000000.0</td>\n",
       "      <td>2.923706e+09</td>\n",
       "    </tr>\n",
       "    <tr>\n",
       "      <th>263</th>\n",
       "      <td>Avengers: Endgame</td>\n",
       "      <td>400000000.0</td>\n",
       "      <td>2.799439e+09</td>\n",
       "    </tr>\n",
       "    <tr>\n",
       "      <th>349</th>\n",
       "      <td>Titanic</td>\n",
       "      <td>200000000.0</td>\n",
       "      <td>2.194691e+09</td>\n",
       "    </tr>\n",
       "    <tr>\n",
       "      <th>1</th>\n",
       "      <td>Avatar: The Way of Water</td>\n",
       "      <td>460000000.0</td>\n",
       "      <td>2.177913e+09</td>\n",
       "    </tr>\n",
       "    <tr>\n",
       "      <th>118</th>\n",
       "      <td>Avengers: Infinity War</td>\n",
       "      <td>300000000.0</td>\n",
       "      <td>2.052415e+09</td>\n",
       "    </tr>\n",
       "  </tbody>\n",
       "</table>\n",
       "</div>"
      ],
      "text/plain": [
       "                   movie_name       budget     revenue_y\n",
       "73                     Avatar  237000000.0  2.923706e+09\n",
       "263         Avengers: Endgame  400000000.0  2.799439e+09\n",
       "349                   Titanic  200000000.0  2.194691e+09\n",
       "1    Avatar: The Way of Water  460000000.0  2.177913e+09\n",
       "118    Avengers: Infinity War  300000000.0  2.052415e+09"
      ]
     },
     "execution_count": 131,
     "metadata": {},
     "output_type": "execute_result"
    }
   ],
   "source": [
    "#creating dataset that has three columns: movie_name,Budget,Revenue\n",
    "#subsets used: imdb_movies and top_1000_movie.\n",
    "\n",
    "#merging the relevant subsets to create budget_revenue subset\n",
    "budget_revenue=pd.merge(imdb_movies,top_1000_movies,on='movie_name',how='outer')\n",
    "\n",
    "#getting relevant columns of the new subset created\n",
    "budget_revenue=budget_revenue.loc[:,['movie_name','budget','revenue_y']]\n",
    "\n",
    "#sorting the subset\n",
    "budget_revenue.sort_values(by='revenue_y',ascending=[False],inplace=True)\n",
    "\n",
    "#drop duplicates but keep first\n",
    "budget_revenue.drop_duplicates(subset=['movie_name'],keep='first',inplace=True)\n",
    "\n",
    "#drop NaN values caused by the merge\n",
    "budget_revenue.dropna(inplace=True)\n",
    "\n",
    "#printing the first five movies\n",
    "budget_revenue.head(5)"
   ]
  },
  {
   "cell_type": "markdown",
   "id": "d233352e",
   "metadata": {},
   "source": [
    "#### Budget vs Revenue Satter Plot\n",
    "The graph below shows the relationship between movie budget and movie revenue for the top 900 grossing movies."
   ]
  },
  {
   "cell_type": "code",
   "execution_count": 132,
   "id": "a40530c1",
   "metadata": {},
   "outputs": [
    {
     "data": {
      "image/png": "[encoded data removed]",
      "text/plain": [
       "<Figure size 640x480 with 1 Axes>"
      ]
     },
     "metadata": {},
     "output_type": "display_data"
    }
   ],
   "source": [
    "##ploting\n",
    "fig, ax = plt.subplots()\n",
    "y='Total Revenue'\n",
    "x='Total Budget'\n",
    "budgets=budget_revenue['budget']\n",
    "revenues=budget_revenue['revenue_y']\n",
    "plt.scatter(budgets,revenues, c =\"blue\")\n",
    "ax.set_xlabel(x)\n",
    "ax.set_ylabel(y)\n",
    "  \n",
    "ax.set_title('Budget vs Revenue for top 1000 grossing movies')\n",
    "  \n",
    "plt.show()"
   ]
  },
  {
   "cell_type": "markdown",
   "id": "23481c12",
   "metadata": {},
   "source": [
    "### 4.1.b Budget and Rating.\n",
    "Here we analyse the relationiship between the amount of budget allocated and the rating it received.\n",
    "we are doing this because some viewers may associate a movie with a higher budget as to being better than a movie with a low budget."
   ]
  },
  {
   "cell_type": "code",
   "execution_count": 133,
   "id": "6bd3cf34",
   "metadata": {},
   "outputs": [],
   "source": [
    "#creating dataset that has three columns: movie_name,Budget,imdb rating\n",
    "#subsets used here are: imdb_movies and most_popular_movies...both are imdb movie data.\n",
    "\n",
    "#merging the subsets to create a new dataset called budget_rating\n",
    "budget_rating=pd.merge(imdb_movies,most_popular_movies,on='movie_name',how='inner')\n",
    "\n",
    "#retrieving the relevant columns\n",
    "budget_rating=budget_rating.loc[:,['movie_name','budget','imdbRating']]\n",
    "\n",
    "#sorting the subset\n",
    "budget_rating.sort_values(by='imdbRating',ascending=[False],inplace=True)\n",
    "\n",
    "#drop duplicates but keep first\n",
    "budget_rating.drop_duplicates(subset=['movie_name'],keep='first',inplace=True)\n",
    "\n",
    "#drop NaN values caused by the merge\n",
    "budget_rating.dropna(inplace=True)"
   ]
  },
  {
   "cell_type": "markdown",
   "id": "824712bb",
   "metadata": {},
   "source": [
    "####  plotting a scatter for budget vs rating\n",
    "The graph below shows the relationship between movie budget and movie rating for the popular imdb movies and  movies that have been to the box office."
   ]
  },
  {
   "cell_type": "code",
   "execution_count": 134,
   "id": "5ded956c",
   "metadata": {},
   "outputs": [
    {
     "data": {
      "image/png": "[encoded data removed]",
      "text/plain": [
       "<Figure size 640x480 with 1 Axes>"
      ]
     },
     "metadata": {},
     "output_type": "display_data"
    }
   ],
   "source": [
    "##scatter plot\n",
    "fig, ax = plt.subplots()\n",
    "y='Rating'\n",
    "x='Total Budget'\n",
    "budgets=budget_rating['budget']\n",
    "ratings=budget_rating['imdbRating']\n",
    "plt.scatter(budgets,ratings)\n",
    "ax.set_xlabel(x)\n",
    "ax.set_ylabel(y)\n",
    "  \n",
    "ax.set_title('Budget vs Rating for 5000 most popular imdb movies')\n",
    "  \n",
    "plt.show()\n"
   ]
  },
  {
   "cell_type": "markdown",
   "id": "bad5173c",
   "metadata": {},
   "source": [
    "#### Analysis:\n",
    "There is no relationship between the movie budget and rating. Most of the highlly rated movies have a low budget. This shows that viewer dont associate a higher budget movie as to being a better movie than the lowly funded movies"
   ]
  },
  {
   "cell_type": "markdown",
   "id": "6473bb88",
   "metadata": {},
   "source": [
    "### 4.2 GENRE."
   ]
  },
  {
   "cell_type": "code",
   "execution_count": 135,
   "id": "13236fc6",
   "metadata": {},
   "outputs": [
    {
     "data": {
      "text/html": [
       "<div>\n",
       "<style scoped>\n",
       "    .dataframe tbody tr th:only-of-type {\n",
       "        vertical-align: middle;\n",
       "    }\n",
       "\n",
       "    .dataframe tbody tr th {\n",
       "        vertical-align: top;\n",
       "    }\n",
       "\n",
       "    .dataframe thead th {\n",
       "        text-align: right;\n",
       "    }\n",
       "</style>\n",
       "<table border=\"1\" class=\"dataframe\">\n",
       "  <thead>\n",
       "    <tr style=\"text-align: right;\">\n",
       "      <th></th>\n",
       "      <th>movie_name</th>\n",
       "      <th>revenue</th>\n",
       "      <th>imdbRating</th>\n",
       "      <th>genres</th>\n",
       "    </tr>\n",
       "  </thead>\n",
       "  <tbody>\n",
       "    <tr>\n",
       "      <th>87</th>\n",
       "      <td>Avatar</td>\n",
       "      <td>2.923706e+09</td>\n",
       "      <td>7.9</td>\n",
       "      <td>Action, Adventure, Fantasy, Science Fiction,Ac...</td>\n",
       "    </tr>\n",
       "    <tr>\n",
       "      <th>323</th>\n",
       "      <td>Avengers: Endgame</td>\n",
       "      <td>2.794732e+09</td>\n",
       "      <td>8.4</td>\n",
       "      <td>Adventure, Science Fiction, Action,Action, Adv...</td>\n",
       "    </tr>\n",
       "  </tbody>\n",
       "</table>\n",
       "</div>"
      ],
      "text/plain": [
       "            movie_name       revenue  imdbRating  \\\n",
       "87              Avatar  2.923706e+09         7.9   \n",
       "323  Avengers: Endgame  2.794732e+09         8.4   \n",
       "\n",
       "                                                genres  \n",
       "87   Action, Adventure, Fantasy, Science Fiction,Ac...  \n",
       "323  Adventure, Science Fiction, Action,Action, Adv...  "
      ]
     },
     "execution_count": 135,
     "metadata": {},
     "output_type": "execute_result"
    }
   ],
   "source": [
    "#creating dataset\n",
    "#subsets used: oscar_movies,imdb_movies and most_popular_movies,oscar_movies\n",
    "\n",
    "#merging the relevant subsets to create main genre subset\n",
    "genre=pd.merge(imdb_movies,most_popular_movies,on='movie_name',how='outer')\n",
    "\n",
    "##getting relevant columns of the new subset created\n",
    "genre=genre.loc[:,['movie_name','revenue','genre_x','genre_y','imdbRating']]\n",
    "\n",
    "#combinig the two genres into one column called 'genres'\n",
    "genre['genres'] =genre['genre_x'] + ',' + genre['genre_y']\n",
    "\n",
    "#drop irrelevant columns\n",
    "genre.drop(['genre_x','genre_y'],axis=1,inplace=True)\n",
    "\n",
    "#sorting the subset\n",
    "genre.sort_values(by='revenue',ascending=[False],inplace=True)\n",
    "\n",
    "#drop duplicates but keep first\n",
    "genre.drop_duplicates(subset=['movie_name'],keep='first',inplace=True)\n",
    "\n",
    "#drop those with NaN values\n",
    "genre.dropna(inplace=True)\n",
    "\n",
    "genre.head(2)"
   ]
  },
  {
   "cell_type": "code",
   "execution_count": 136,
   "id": "05eb4133",
   "metadata": {},
   "outputs": [
    {
     "data": {
      "text/plain": [
       "['Animation',\n",
       " 'Romance',\n",
       " 'Music',\n",
       " 'Drama',\n",
       " 'History',\n",
       " 'Biography',\n",
       " 'Horror',\n",
       " 'Short',\n",
       " 'Thriller',\n",
       " 'Comedy',\n",
       " 'TV Movie',\n",
       " 'Documentary',\n",
       " 'Fantasy',\n",
       " 'Action',\n",
       " 'Sci-Fi',\n",
       " 'Family',\n",
       " 'Science Fiction',\n",
       " 'War',\n",
       " 'Adventure',\n",
       " 'Mystery',\n",
       " 'Crime',\n",
       " 'Musical']"
      ]
     },
     "execution_count": 136,
     "metadata": {},
     "output_type": "execute_result"
    }
   ],
   "source": [
    "#the genres column has a lot of duplicates and we need to create a list of unique genres\n",
    "#this function does that.\n",
    "unique_genres=[]\n",
    "def gen():\n",
    "    for item in genre['genres'][0:200]:\n",
    "        for genr in item.split(','):\n",
    "            if('\\xa0' in genr):\n",
    "                pass\n",
    "            else:\n",
    "                unique_genres.append(genr.strip())\n",
    "gen()\n",
    "\n",
    "unique_genres=list(set(unique_genres))\n",
    "unique_genres"
   ]
  },
  {
   "cell_type": "code",
   "execution_count": 137,
   "id": "ef15ff90",
   "metadata": {},
   "outputs": [],
   "source": [
    "##we need to create hashes that will be needed for plotting\n",
    "genre_oscar={}\n",
    "new_genres={}\n",
    "genre_revenue={}\n",
    "\n",
    "    \n",
    "##create hashes from unique genres\n",
    "for gen in unique_genres:\n",
    "    new_genres[gen]=[]\n",
    "    genre_oscar[gen]=[]\n",
    "    genre_revenue[gen]=[]\n"
   ]
  },
  {
   "cell_type": "code",
   "execution_count": 138,
   "id": "ec877827",
   "metadata": {},
   "outputs": [],
   "source": [
    "##for each of the unique_genres. we are going to populate them with tuples.\n",
    "##each tuple has movie_name,revenue and rating\n",
    "##some movies may appear in more than one genre\n",
    "##output will be -> {'Music': [('Bohemian Rhapsody', 7.9, 882205260.0).....]\n",
    "\n",
    "for (index,row) in genre.iterrows():\n",
    "    data=[]\n",
    "    data.append(row['movie_name'])\n",
    "    data.append(row['imdbRating'])\n",
    "    data.append(row['revenue'])\n",
    "    for gen in list(set(row['genres'].split(','))):\n",
    "        if('\\xa0' not in gen and gen in new_genres and data not in new_genres[gen.strip()]):\n",
    "            new_genres[gen.strip()].append(tuple(data))\n"
   ]
  },
  {
   "cell_type": "code",
   "execution_count": 139,
   "id": "cd8016e1",
   "metadata": {},
   "outputs": [
    {
     "data": {
      "text/plain": [
       "{'Science Fiction': 208,\n",
       " 'Biography': 244,\n",
       " 'Thriller': 351,\n",
       " 'Crime': 550,\n",
       " 'Adventure': 618,\n",
       " 'Horror': 621,\n",
       " 'Animation': 691,\n",
       " 'Comedy': 1306,\n",
       " 'Drama': 1462,\n",
       " 'Action': 1851}"
      ]
     },
     "execution_count": 139,
     "metadata": {},
     "output_type": "execute_result"
    }
   ],
   "source": [
    "#plotting top 10 common genres\n",
    "#we need to find the top 10 common  genres...we will have to genres with the most number of movies\n",
    "genre_count={}\n",
    "##this sorts out the genres and extracts top 10\n",
    "sorted_new_genres = sorted(new_genres.items(), key = lambda item : len(item[1]))\n",
    "new_genres = dict(sorted_new_genres[-10:])\n",
    "\n",
    "for genre in new_genres:\n",
    "    genre_count[genre]=len(new_genres[genre])\n",
    "\n",
    "genre_count"
   ]
  },
  {
   "cell_type": "code",
   "execution_count": 140,
   "id": "7fd64b12",
   "metadata": {},
   "outputs": [
    {
     "data": {
      "image/png": "[encoded data removed]",
      "text/plain": [
       "<Figure size 640x480 with 1 Axes>"
      ]
     },
     "metadata": {},
     "output_type": "display_data"
    }
   ],
   "source": [
    "##plot\n",
    "labels = []\n",
    "count=[]\n",
    "for (key,value) in genre_count.items():\n",
    "    labels.append(key)\n",
    "    count.append(value)\n",
    "\n",
    "fig, ax = plt.subplots()\n",
    "\n",
    "ax.bar(labels, count)\n",
    "\n",
    "ax.set_ylabel('count')\n",
    "ax.set_xlabel('genre')\n",
    "\n",
    "ax.set_title('top 10 popular genres')\n",
    "plt.xticks(rotation='vertical')\n",
    "\n",
    "plt.show()\n"
   ]
  },
  {
   "cell_type": "markdown",
   "id": "498210e4",
   "metadata": {},
   "source": [
    "#### Analysis:\n",
    "Most of the movies produced fall under the following genres:\n",
    "1. Action.\n",
    "2. Drama.\n",
    "3. Comedy.\n",
    "4. Animation.\n",
    "5. Horror."
   ]
  },
  {
   "cell_type": "markdown",
   "id": "97a98080",
   "metadata": {},
   "source": [
    "### 4.2.a Genre vs Oscars.\n",
    "we are going to determine which genres have won more oscars."
   ]
  },
  {
   "cell_type": "code",
   "execution_count": 141,
   "id": "92fcf9fd",
   "metadata": {},
   "outputs": [
    {
     "data": {
      "text/html": [
       "<div>\n",
       "<style scoped>\n",
       "    .dataframe tbody tr th:only-of-type {\n",
       "        vertical-align: middle;\n",
       "    }\n",
       "\n",
       "    .dataframe tbody tr th {\n",
       "        vertical-align: top;\n",
       "    }\n",
       "\n",
       "    .dataframe thead th {\n",
       "        text-align: right;\n",
       "    }\n",
       "</style>\n",
       "<table border=\"1\" class=\"dataframe\">\n",
       "  <thead>\n",
       "    <tr style=\"text-align: right;\">\n",
       "      <th></th>\n",
       "      <th>movie_name</th>\n",
       "      <th>genres</th>\n",
       "      <th>Award</th>\n",
       "      <th>Nomination</th>\n",
       "    </tr>\n",
       "  </thead>\n",
       "  <tbody>\n",
       "    <tr>\n",
       "      <th>0</th>\n",
       "      <td>Avatar: The Way of Water</td>\n",
       "      <td>Science Fiction, Adventure, Action,Action, Adv...</td>\n",
       "      <td>1</td>\n",
       "      <td>4</td>\n",
       "    </tr>\n",
       "    <tr>\n",
       "      <th>1</th>\n",
       "      <td>The Exorcist</td>\n",
       "      <td>Horror,Horror</td>\n",
       "      <td>2</td>\n",
       "      <td>10</td>\n",
       "    </tr>\n",
       "  </tbody>\n",
       "</table>\n",
       "</div>"
      ],
      "text/plain": [
       "                 movie_name  \\\n",
       "0  Avatar: The Way of Water   \n",
       "1              The Exorcist   \n",
       "\n",
       "                                              genres  Award  Nomination  \n",
       "0  Science Fiction, Adventure, Action,Action, Adv...      1           4  \n",
       "1                                      Horror,Horror      2          10  "
      ]
     },
     "execution_count": 141,
     "metadata": {},
     "output_type": "execute_result"
    }
   ],
   "source": [
    "##creating subset\n",
    "\n",
    "#merging imdb_movies,oscar_movies and most_popular_movies to create needed dataset\n",
    "genre_oscar_main=pd.merge(imdb_movies,oscar_movies,on='movie_name',how='inner')\n",
    "genre_oscar_main=pd.merge(genre_oscar_main,most_popular_movies,on='movie_name',how='inner')\n",
    "#joining the genre_x and genre_y to create genre that has genres from both\n",
    "genre_oscar_main['genres'] =genre_oscar_main['genre_x'] + ',' + genre_oscar_main['genre_y']\n",
    "#retrieve relevant columns\n",
    "genre_oscar_main=genre_oscar_main.loc[:,['movie_name','genres','Award','Nomination']]\n",
    "#drop duplicates due to the merge but keep first\n",
    "genre_oscar_main.drop_duplicates(subset=['movie_name'],keep='first',inplace=True)\n",
    "#drop those with NaN values caused by the merge\n",
    "genre_oscar_main.dropna(inplace=True)\n",
    "genre_oscar_main.head(2)"
   ]
  },
  {
   "cell_type": "code",
   "execution_count": 142,
   "id": "83d56df7",
   "metadata": {},
   "outputs": [],
   "source": [
    "##for each of the genre_oscar_main. we are going to populate them with dictionaries containing tuples.\n",
    "##each tuple has movie_name,revenue and rating\n",
    "##the key is genre name\n",
    "##some movies may appear in more than one genre\n",
    "##output like -> 'Comedy': {'nominations': 409, 'awards': 157}\n",
    "for (index,row) in genre_oscar_main.iterrows():\n",
    "    data=[]\n",
    "    data.append(row['movie_name'])\n",
    "    data.append(row['Nomination'])\n",
    "    data.append(row['Award'])\n",
    "    for gen in list(set(row['genres'].split(','))):\n",
    "        if('\\xa0' not in gen and gen in genre_oscar and data not in genre_oscar[gen.strip()]):\n",
    "            genre_oscar[gen.strip()].append(tuple(data))\n"
   ]
  },
  {
   "cell_type": "code",
   "execution_count": 143,
   "id": "e6dceb6a",
   "metadata": {},
   "outputs": [],
   "source": [
    "#plotting top 10 common genres\n",
    "#we need to find the top 10 common  genres...we will have to genres with the most number of movies\n",
    "genre_oscar_count={}\n",
    "##example -> 'History': {'nominations': 0, 'awards': 0}\n",
    "\n",
    "##create hashes in genre_oscar_count containing genre name\n",
    "for gen in unique_genres:\n",
    "    genre_oscar_count[gen]={'nominations':0,'awards':0}\n",
    "    \n",
    "\n",
    "#populate hashes with counts\n",
    "for genre in genre_oscar:\n",
    "    counted=[]\n",
    "    for item in genre_oscar[genre]:\n",
    "        if(item[0] not in counted):\n",
    "            counted.append(item[0])\n",
    "            genre_oscar_count[genre]['nominations']+=item[1]\n",
    "            genre_oscar_count[genre]['awards']+=item[2]       \n",
    "            "
   ]
  },
  {
   "cell_type": "markdown",
   "id": "69d2183a",
   "metadata": {},
   "source": [
    "#### plotting a bar graph showing each genre and its oscar nominations compared with its oscar wins :\n"
   ]
  },
  {
   "cell_type": "code",
   "execution_count": 144,
   "id": "249d75a9",
   "metadata": {},
   "outputs": [
    {
     "data": {
      "image/png": "[encoded data removed]",
      "text/plain": [
       "<Figure size 640x480 with 1 Axes>"
      ]
     },
     "metadata": {},
     "output_type": "display_data"
    }
   ],
   "source": [
    "labels = []\n",
    "nominations=[]\n",
    "awards=[]\n",
    "\n",
    "for (key,value) in genre_oscar_count.items():\n",
    "    labels.append(key)\n",
    "    nominations.append(value['nominations'])\n",
    "    awards.append(value['awards'])\n",
    "width = 0.8\n",
    "\n",
    "fig, ax = plt.subplots()\n",
    "\n",
    "ax.bar(labels, nominations, width,label ='nominations')\n",
    "\n",
    "ax.bar(labels, awards, width,bottom = nominations,label ='awards')\n",
    "ax.set_xlabel('Genre')\n",
    "ax.set_ylabel('Oscars')\n",
    "ax.legend()\n",
    "\n",
    "ax.set_title('genre vs oscar data')\n",
    "plt.xticks(rotation='vertical')\n",
    "\n",
    "plt.show()\n"
   ]
  },
  {
   "cell_type": "markdown",
   "id": "376ba3a7",
   "metadata": {},
   "source": [
    "#### Analysis:\n",
    "The following genres perfomed well at the Oscars:\n",
    "1. Drama.\n",
    "2. Action.\n",
    "3. Comedy.\n",
    "4. Adventure.\n",
    "5. Biography."
   ]
  },
  {
   "cell_type": "code",
   "execution_count": 145,
   "id": "1f3fca47",
   "metadata": {},
   "outputs": [
    {
     "data": {
      "text/html": [
       "<div>\n",
       "<style scoped>\n",
       "    .dataframe tbody tr th:only-of-type {\n",
       "        vertical-align: middle;\n",
       "    }\n",
       "\n",
       "    .dataframe tbody tr th {\n",
       "        vertical-align: top;\n",
       "    }\n",
       "\n",
       "    .dataframe thead th {\n",
       "        text-align: right;\n",
       "    }\n",
       "</style>\n",
       "<table border=\"1\" class=\"dataframe\">\n",
       "  <thead>\n",
       "    <tr style=\"text-align: right;\">\n",
       "      <th></th>\n",
       "      <th>movie_name</th>\n",
       "      <th>revenue</th>\n",
       "      <th>genres</th>\n",
       "    </tr>\n",
       "  </thead>\n",
       "  <tbody>\n",
       "    <tr>\n",
       "      <th>87</th>\n",
       "      <td>Avatar</td>\n",
       "      <td>2.923706e+09</td>\n",
       "      <td>Action, Adventure, Fantasy, Science Fiction,Ac...</td>\n",
       "    </tr>\n",
       "    <tr>\n",
       "      <th>323</th>\n",
       "      <td>Avengers: Endgame</td>\n",
       "      <td>2.794732e+09</td>\n",
       "      <td>Adventure, Science Fiction, Action,Action, Adv...</td>\n",
       "    </tr>\n",
       "    <tr>\n",
       "      <th>1</th>\n",
       "      <td>Avatar: The Way of Water</td>\n",
       "      <td>2.316795e+09</td>\n",
       "      <td>Science Fiction, Adventure, Action,Action, Adv...</td>\n",
       "    </tr>\n",
       "    <tr>\n",
       "      <th>421</th>\n",
       "      <td>Titanic</td>\n",
       "      <td>2.222986e+09</td>\n",
       "      <td>Drama, Romance,Action, Drama, History</td>\n",
       "    </tr>\n",
       "    <tr>\n",
       "      <th>145</th>\n",
       "      <td>Avengers: Infinity War</td>\n",
       "      <td>2.048360e+09</td>\n",
       "      <td>Adventure, Action, Science Fiction,Action, Adv...</td>\n",
       "    </tr>\n",
       "  </tbody>\n",
       "</table>\n",
       "</div>"
      ],
      "text/plain": [
       "                   movie_name       revenue  \\\n",
       "87                     Avatar  2.923706e+09   \n",
       "323         Avengers: Endgame  2.794732e+09   \n",
       "1    Avatar: The Way of Water  2.316795e+09   \n",
       "421                   Titanic  2.222986e+09   \n",
       "145    Avengers: Infinity War  2.048360e+09   \n",
       "\n",
       "                                                genres  \n",
       "87   Action, Adventure, Fantasy, Science Fiction,Ac...  \n",
       "323  Adventure, Science Fiction, Action,Action, Adv...  \n",
       "1    Science Fiction, Adventure, Action,Action, Adv...  \n",
       "421              Drama, Romance,Action, Drama, History  \n",
       "145  Adventure, Action, Science Fiction,Action, Adv...  "
      ]
     },
     "execution_count": 145,
     "metadata": {},
     "output_type": "execute_result"
    }
   ],
   "source": [
    "##subsets used imdb_movies,most_popular_movies\n",
    "#creating dataset\n",
    "#subsets used: oscar_movies,imdb_movies and most_popular_movies,oscar_movies\n",
    "\n",
    "#merging the relevant subsets to create main genre subset\n",
    "genre_revenue_main=pd.merge(imdb_movies,most_popular_movies,on='movie_name',how='outer')\n",
    "\n",
    "##getting relevant columns of the new subset created\n",
    "genre_revenue_main=genre_revenue_main.loc[:,['movie_name','revenue','genre_x','genre_y']]\n",
    "\n",
    "# combinig the two genres into one column called 'genres'\n",
    "genre_revenue_main['genres'] =genre_revenue_main['genre_x'] + ',' + genre_revenue_main['genre_y']\n",
    "\n",
    "#drop irrelevant columns\n",
    "genre_revenue_main.drop(['genre_x','genre_y'],axis=1,inplace=True)\n",
    "\n",
    "#sorting the subset\n",
    "genre_revenue_main.sort_values(by='revenue',ascending=[False],inplace=True)\n",
    "\n",
    "#drop duplicates but keep first\n",
    "genre_revenue_main.drop_duplicates(subset=['movie_name'],keep='first',inplace=True)\n",
    "\n",
    "#drop those with NaN values\n",
    "genre_revenue_main.dropna(inplace=True)\n",
    "#printing the first 5 mmovies\n",
    "genre_revenue_main.head()"
   ]
  },
  {
   "cell_type": "code",
   "execution_count": 146,
   "id": "841ce83d",
   "metadata": {},
   "outputs": [],
   "source": [
    "##for each of the genre_oscar_main. we are going to populate them with dictionaries containing tuples.\n",
    "##each tuple has movie_name,revenue and rating\n",
    "##the key is genre name\n",
    "##some movies may appear in more than one genre\n",
    "for (index,row) in genre_revenue_main.iterrows():\n",
    "    data=[]\n",
    "    data.append(row['movie_name'])\n",
    "    data.append(row['revenue'])\n",
    "    for gen in list(set(row['genres'].split(','))):\n",
    "        if(gen.strip() in genre_revenue and data not in genre_revenue[gen.strip()]):\n",
    "            genre_revenue[gen.strip()].append(data)\n"
   ]
  },
  {
   "cell_type": "code",
   "execution_count": 147,
   "id": "868f25ac",
   "metadata": {},
   "outputs": [
    {
     "data": {
      "text/plain": [
       "{'Animation': {'revenue': 213392948723.5999},\n",
       " 'Romance': {'revenue': 196889202996.7999},\n",
       " 'Music': {'revenue': 34066355153.199993},\n",
       " 'Drama': {'revenue': 506410027197.99976},\n",
       " 'History': {'revenue': 50287383081.399994},\n",
       " 'Biography': {'revenue': 43464224346.4},\n",
       " 'Horror': {'revenue': 165170138878.6},\n",
       " 'Short': {'revenue': 13559718836.799997},\n",
       " 'Thriller': {'revenue': 330695527483.2001},\n",
       " 'Comedy': {'revenue': 420250848193.9998},\n",
       " 'TV Movie': {'revenue': 10650326704.8},\n",
       " 'Documentary': {'revenue': 6447866369.799999},\n",
       " 'Fantasy': {'revenue': 236454530022.0001},\n",
       " 'Action': {'revenue': 456099818383.7997},\n",
       " 'Sci-Fi': {'revenue': 115977381757.79991},\n",
       " 'Family': {'revenue': 211451935556.39984},\n",
       " 'Science Fiction': {'revenue': 186628662204.6},\n",
       " 'War': {'revenue': 29468948875.600002},\n",
       " 'Adventure': {'revenue': 428362212602.5996},\n",
       " 'Mystery': {'revenue': 139895879855.39987},\n",
       " 'Crime': {'revenue': 211383083574.20023},\n",
       " 'Musical': {'revenue': 9322476880.199999}}"
      ]
     },
     "execution_count": 147,
     "metadata": {},
     "output_type": "execute_result"
    }
   ],
   "source": [
    "#creating hashes for each genre and revenue\n",
    "#output should be->\n",
    "genre_revenue_count={}\n",
    "for gen in unique_genres:\n",
    "    genre_revenue_count[gen]={'revenue':0}\n",
    "    \n",
    "##counting revenue for each genre\n",
    "for genre in genre_oscar:\n",
    "    counted=[]\n",
    "    for item in genre_revenue[genre]:\n",
    "        if(item[0] not in counted):\n",
    "            counted.append(item[0])\n",
    "            genre_revenue_count[genre]['revenue']+=item[1]  \n",
    "            \n",
    "genre_revenue_count"
   ]
  },
  {
   "cell_type": "markdown",
   "id": "3f64e9fd",
   "metadata": {},
   "source": [
    "#### plotting bar graph  showing each genre and their revenue for most popular imdb movies"
   ]
  },
  {
   "cell_type": "code",
   "execution_count": 148,
   "id": "f7f45a30",
   "metadata": {
    "scrolled": false
   },
   "outputs": [
    {
     "data": {
      "image/png": "[encoded data removed]",
      "text/plain": [
       "<Figure size 640x480 with 1 Axes>"
      ]
     },
     "metadata": {},
     "output_type": "display_data"
    }
   ],
   "source": [
    "##plot\n",
    "labels = []\n",
    "revenue=[]\n",
    "for (key,value) in genre_revenue_count.items():\n",
    "    labels.append(key)\n",
    "    revenue.append(value['revenue'])\n",
    "\n",
    "fig, ax = plt.subplots()\n",
    "\n",
    "ax.bar(labels, revenue)\n",
    "\n",
    "ax.set_ylabel('revenue')\n",
    "ax.set_xlabel('genre')\n",
    "\n",
    "ax.set_title('Genre vs Revenue')\n",
    "plt.xticks(rotation='vertical')\n",
    "\n",
    "plt.show()"
   ]
  },
  {
   "cell_type": "markdown",
   "id": "9748569a",
   "metadata": {},
   "source": [
    "#### Analysis:\n",
    "The top earning genres are:\n",
    "1. Drama.\n",
    "2. Action.\n",
    "3. Comedy.\n",
    "4. Adventure.\n",
    "5. Thriller\n"
   ]
  },
  {
   "cell_type": "markdown",
   "id": "8f652f68",
   "metadata": {},
   "source": [
    "### 4.3 MOVIE GUIDELINE CATEGORY."
   ]
  },
  {
   "cell_type": "code",
   "execution_count": 149,
   "id": "0ee90fc7",
   "metadata": {},
   "outputs": [],
   "source": [
    "##top 10 categories\n",
    "##create data\n",
    "#creating dataset\n",
    "#subsets used: most_popular_movies\n",
    "\n",
    "\n",
    "#merging the relevant subsets to create main genre subset\n",
    "Guideline_category_main=pd.merge(imdb_movies,most_popular_movies,on='movie_name',how='outer')\n",
    "Guideline_category_main.head(1)\n",
    "#getting relevant columns of the new subset created\n",
    "Guideline_category_main=Guideline_category_main.loc[:,['movie_name','category','revenue']]\n",
    "\n",
    "#sorting the subset\n",
    "Guideline_category_main.sort_values(by='revenue',ascending=[False],inplace=True)\n",
    "\n",
    "#drop duplicates but keep first\n",
    "Guideline_category_main.drop_duplicates(subset=['movie_name'],keep='first',inplace=True)\n",
    "\n",
    "#drop those with NaN values\n",
    "Guideline_category_main.dropna(inplace=True)\n"
   ]
  },
  {
   "cell_type": "code",
   "execution_count": 150,
   "id": "7b325f85",
   "metadata": {},
   "outputs": [
    {
     "data": {
      "text/plain": [
       "{'TV-MA': [],\n",
       " 'PG': [],\n",
       " 'TV-14': [],\n",
       " 'None': [],\n",
       " 'PG-13': [],\n",
       " 'R': [],\n",
       " 'TV-Y7': [],\n",
       " 'Approved': [],\n",
       " 'G': [],\n",
       " 'TV-PG': [],\n",
       " 'Unrated': [],\n",
       " 'Passed': [],\n",
       " 'TV-Y7-FV': [],\n",
       " 'TV-Y': [],\n",
       " '18': [],\n",
       " 'TV-G': [],\n",
       " 'M': [],\n",
       " '12': [],\n",
       " 'X': [],\n",
       " 'GP': [],\n",
       " 'AO': [],\n",
       " 'F': [],\n",
       " 'TV-13': [],\n",
       " 'NC-17': [],\n",
       " '12A': [],\n",
       " '15': [],\n",
       " 'T': [],\n",
       " 'MA-17': []}"
      ]
     },
     "execution_count": 150,
     "metadata": {},
     "output_type": "execute_result"
    }
   ],
   "source": [
    "#CREATING UNIQUE CATEGORY HASH HOLDER\n",
    "#OUTPUT->{'TV-MA': [],'PG': []....}\n",
    "unique_category=most_popular_movies['category'].tolist()\n",
    "list(set(unique_category))\n",
    "unique_category_hash={}\n",
    "for cat in unique_category:\n",
    "    unique_category_hash[cat]=[]\n",
    "    \n",
    "unique_category_hash"
   ]
  },
  {
   "cell_type": "code",
   "execution_count": 151,
   "id": "ca02e2d4",
   "metadata": {},
   "outputs": [],
   "source": [
    "#populate unique_category_hash\n",
    "#OUTPUT ->{'TV-MA':[['Starstruck',891097702.4]...]}\n",
    "\n",
    "for (index,row) in Guideline_category_main.iterrows():\n",
    "    data=[]\n",
    "    data.append(row['movie_name'])\n",
    "    data.append(row['revenue'])\n",
    "    if(row['category'] in unique_category_hash):\n",
    "        unique_category_hash[row['category']].append(data)\n",
    "    "
   ]
  },
  {
   "cell_type": "code",
   "execution_count": 152,
   "id": "efdf4ecc",
   "metadata": {},
   "outputs": [
    {
     "data": {
      "text/plain": [
       "{'Passed': 42,\n",
       " 'Unrated': 54,\n",
       " 'Approved': 59,\n",
       " 'TV-PG': 84,\n",
       " 'TV-14': 180,\n",
       " 'G': 185,\n",
       " 'TV-MA': 283,\n",
       " 'PG': 827,\n",
       " 'PG-13': 1319,\n",
       " 'R': 2291}"
      ]
     },
     "execution_count": 152,
     "metadata": {},
     "output_type": "execute_result"
    }
   ],
   "source": [
    "##category count....top 10 category and its movies count\n",
    "category_count={}\n",
    "\n",
    "unique_category_hash.pop('None')\n",
    "sorted_category = sorted(unique_category_hash.items(), key = lambda item : len(item[1]))\n",
    "new_category = dict(sorted_category[-10:])\n",
    "for cat in new_category:\n",
    "    category_count[cat]=len(new_category[cat])\n",
    "\n",
    "\n",
    "category_count"
   ]
  },
  {
   "cell_type": "markdown",
   "id": "32142d13",
   "metadata": {},
   "source": [
    "#### plotting a bar graph showing each genre and movie count in most popular movies on imdb:"
   ]
  },
  {
   "cell_type": "code",
   "execution_count": 153,
   "id": "55c89f0a",
   "metadata": {},
   "outputs": [
    {
     "data": {
      "image/png": "[encoded data removed]",
      "text/plain": [
       "<Figure size 640x480 with 1 Axes>"
      ]
     },
     "metadata": {},
     "output_type": "display_data"
    }
   ],
   "source": [
    "##plot\n",
    "labels = []\n",
    "count=[]\n",
    "for (key,value) in category_count.items():\n",
    "    labels.append(key)\n",
    "    count.append(value)\n",
    "\n",
    "fig, ax = plt.subplots()\n",
    "\n",
    "ax.bar(labels, count)\n",
    "\n",
    "ax.set_ylabel('count')\n",
    "ax.set_xlabel('category')\n",
    "\n",
    "ax.set_title('top 10 popular categories')\n",
    "plt.xticks(rotation='vertical')\n",
    "\n",
    "plt.show()"
   ]
  },
  {
   "cell_type": "markdown",
   "id": "84682819",
   "metadata": {},
   "source": [
    "#### Analysis:\n",
    "The top produced categories are:\n",
    "1. R.\n",
    "2. PG-13.\n",
    "3. PG.\n",
    "4. TV-MA.\n",
    "5. G\n"
   ]
  },
  {
   "cell_type": "markdown",
   "id": "4d66aef2",
   "metadata": {},
   "source": [
    "### 4.3.a Category vs  Revenue Earned"
   ]
  },
  {
   "cell_type": "code",
   "execution_count": 154,
   "id": "df2acb74",
   "metadata": {},
   "outputs": [],
   "source": [
    "#we need to find the top 10 common  genres...we will have to genres with the most number of movies\n",
    "category_revenue={}\n",
    "##example -> 'PG': {'revenue': 0}\n",
    "\n",
    "##create hashes in genre_oscar_count containing genre name\n",
    "for gen in unique_category:\n",
    "    category_revenue[gen]={'revenue': 0}\n",
    "    \n",
    "#populate hashes with counts\n",
    "for cat in unique_category_hash:\n",
    "    counted=[]\n",
    "    for item in unique_category_hash[cat]:\n",
    "        if(item[0] not in counted):\n",
    "            counted.append(item[0])\n",
    "            category_revenue[cat]['revenue']+=item[1]     \n",
    "            "
   ]
  },
  {
   "cell_type": "markdown",
   "id": "ef529e88",
   "metadata": {},
   "source": [
    "#### Below is a graph showing each category and revenue earned:"
   ]
  },
  {
   "cell_type": "code",
   "execution_count": 155,
   "id": "151e1846",
   "metadata": {},
   "outputs": [
    {
     "data": {
      "image/png": "[encoded data removed]",
      "text/plain": [
       "<Figure size 640x480 with 1 Axes>"
      ]
     },
     "metadata": {},
     "output_type": "display_data"
    }
   ],
   "source": [
    "##plot\n",
    "labels = []\n",
    "revenue=[]\n",
    "for (key,value) in category_revenue.items():\n",
    "    labels.append(key)\n",
    "    revenue.append(value['revenue'])\n",
    "\n",
    "fig, ax = plt.subplots()\n",
    "\n",
    "ax.bar(labels, revenue)\n",
    "\n",
    "ax.set_ylabel('revenue')\n",
    "ax.set_xlabel('category')\n",
    "\n",
    "ax.set_title('categories vs revenue')\n",
    "plt.xticks(rotation='vertical')\n",
    "\n",
    "plt.show()"
   ]
  },
  {
   "cell_type": "markdown",
   "id": "e2456de7",
   "metadata": {},
   "source": [
    "#### Analysis:\n",
    "The top earning categories are:\n",
    "1. R.\n",
    "2. PG-13.\n",
    "3. PG.\n",
    "4. TV-MA.\n",
    "5. TV-14"
   ]
  },
  {
   "cell_type": "markdown",
   "id": "909472a1",
   "metadata": {},
   "source": [
    "## 5. LANGUAGE."
   ]
  },
  {
   "cell_type": "code",
   "execution_count": 156,
   "id": "a66140fc",
   "metadata": {},
   "outputs": [
    {
     "data": {
      "text/html": [
       "<div>\n",
       "<style scoped>\n",
       "    .dataframe tbody tr th:only-of-type {\n",
       "        vertical-align: middle;\n",
       "    }\n",
       "\n",
       "    .dataframe tbody tr th {\n",
       "        vertical-align: top;\n",
       "    }\n",
       "\n",
       "    .dataframe thead th {\n",
       "        text-align: right;\n",
       "    }\n",
       "</style>\n",
       "<table border=\"1\" class=\"dataframe\">\n",
       "  <thead>\n",
       "    <tr style=\"text-align: right;\">\n",
       "      <th></th>\n",
       "      <th>movie_name</th>\n",
       "      <th>language</th>\n",
       "      <th>revenue</th>\n",
       "    </tr>\n",
       "  </thead>\n",
       "  <tbody>\n",
       "    <tr>\n",
       "      <th>0</th>\n",
       "      <td>Creed III</td>\n",
       "      <td>English</td>\n",
       "      <td>2.716167e+08</td>\n",
       "    </tr>\n",
       "    <tr>\n",
       "      <th>1</th>\n",
       "      <td>Avatar: The Way of Water</td>\n",
       "      <td>English</td>\n",
       "      <td>2.316795e+09</td>\n",
       "    </tr>\n",
       "    <tr>\n",
       "      <th>2</th>\n",
       "      <td>The Super Mario Bros. Movie</td>\n",
       "      <td>English</td>\n",
       "      <td>7.244590e+08</td>\n",
       "    </tr>\n",
       "    <tr>\n",
       "      <th>3</th>\n",
       "      <td>Mummies</td>\n",
       "      <td>Spanish</td>\n",
       "      <td>3.420000e+07</td>\n",
       "    </tr>\n",
       "    <tr>\n",
       "      <th>4</th>\n",
       "      <td>Supercell</td>\n",
       "      <td>English</td>\n",
       "      <td>3.409420e+08</td>\n",
       "    </tr>\n",
       "  </tbody>\n",
       "</table>\n",
       "</div>"
      ],
      "text/plain": [
       "                    movie_name  language       revenue\n",
       "0                    Creed III   English  2.716167e+08\n",
       "1     Avatar: The Way of Water   English  2.316795e+09\n",
       "2  The Super Mario Bros. Movie   English  7.244590e+08\n",
       "3                      Mummies   Spanish  3.420000e+07\n",
       "4                    Supercell   English  3.409420e+08"
      ]
     },
     "execution_count": 156,
     "metadata": {},
     "output_type": "execute_result"
    }
   ],
   "source": [
    "## Create dataset\n",
    "##dataset used : imdb_movies\n",
    "language_revenue=imdb_movies.loc[:,['movie_name','language','revenue']]\n",
    "language_revenue.head(3)\n",
    "\n",
    "##renaming some languages\n",
    "language_revenue['language']=language_revenue['language'].str.replace(' Catalan, Valencian',' Catalan')\n",
    "language_revenue['language']=language_revenue['language'].str.replace(' Bokmål, Norwegian, Norwegian Bokmål',' Norwegian')\n",
    "language_revenue['language']=language_revenue['language'].str.replace( ' Spanish, Castilian',' Spanish')\n",
    "\n",
    "\n",
    "unique_languages=list(set(language_revenue['language'].unique()))\n",
    "unique_languages\n",
    "unique_languages_hash={}\n",
    "\n",
    "for lang in unique_languages:\n",
    "    unique_languages_hash[lang]={'revenue':0}\n",
    "\n",
    "language_revenue.head()"
   ]
  },
  {
   "cell_type": "code",
   "execution_count": 157,
   "id": "13f794a1",
   "metadata": {},
   "outputs": [],
   "source": [
    "for (index,row) in language_revenue.iterrows():\n",
    "    if(row['language'] in unique_languages_hash):\n",
    "        unique_languages_hash[row['language']]['revenue']+=row['revenue']"
   ]
  },
  {
   "cell_type": "markdown",
   "id": "1f734ae8",
   "metadata": {},
   "source": [
    "#### The graph below shows each language spoken and the total movie grosses"
   ]
  },
  {
   "cell_type": "code",
   "execution_count": 158,
   "id": "e2e35d5d",
   "metadata": {},
   "outputs": [
    {
     "data": {
      "image/png": "[encoded data removed]",
      "text/plain": [
       "<Figure size 640x480 with 1 Axes>"
      ]
     },
     "metadata": {},
     "output_type": "display_data"
    }
   ],
   "source": [
    "labels = []\n",
    "revenue=[]\n",
    "for (key,value) in unique_languages_hash.items():\n",
    "    labels.append(key)\n",
    "    revenue.append(value['revenue'])\n",
    "\n",
    "fig, ax = plt.subplots()\n",
    "\n",
    "ax.bar(labels, revenue)\n",
    "\n",
    "ax.set_ylabel('revenue')\n",
    "ax.set_xlabel('language')\n",
    "\n",
    "ax.set_title('language vs revenue')\n",
    "plt.xticks(rotation='vertical')\n",
    "\n",
    "plt.show()"
   ]
  },
  {
   "cell_type": "markdown",
   "id": "4b01d037",
   "metadata": {},
   "source": [
    "#### Analysis:\n",
    "The top earning  languages are:\n",
    "1. English.\n",
    "2. Japanese.\n",
    "3. Spanish.\n",
    "4. korean.\n",
    "5. French."
   ]
  },
  {
   "cell_type": "markdown",
   "id": "4e9b6fac",
   "metadata": {},
   "source": [
    "## 6. SUMMARY.\n",
    "In this report, we have focused on four main areas in order to meet our objectives:\n",
    "1. Budget.\n",
    "2. Genre.\n",
    "3. Movie Guideline Category.\n",
    "4. Spoken Language.\n",
    "\n",
    "We have to acknowldge that there are other factors that may affect the success of a movie studio and the success of the movies they produce. This may include:\n",
    "\n",
    "1. The movie directors : some directors are better than others.\n",
    "\n",
    "2. The cast in the movies : some actors have a large fanbase that is always on the lookout for their movies.\n",
    "\n",
    "3. The promotion strategy of the studio : how well do they promote their movies.\n",
    "\n",
    "In the film industry there are also some notable mentions:\n",
    "1. Hollywood is the world's oldest national film industry, and largest in terms of box office gross revenue.\n",
    "2. Indian cinema is the largest national film industry in terms of the number of films produced, with 2,446 feature films produced annually as of 2019.\n",
    "3. As of 2021, Chinese cinema has the highest annual ticket sales with 1,156 million tickets sold.\n"
   ]
  },
  {
   "cell_type": "markdown",
   "id": "35fe002a",
   "metadata": {},
   "source": [
    "## 7. RECOMMENDATIONS.\n",
    "\n",
    "From our analysis, we have come up with the following recommendation :\n",
    "\n",
    "1. I found that the average movie budget has a strong correlation to it's revenue. For the popular and top earning movies, average movie budget was `$`64,882,378 and most common movie budget was`$`20,000,000. Hence I recommend that the movies produced by the new Microsoft studio should have a minimun budget that ranges from `$`20,000,000 - `$`60,000,000. \n",
    "\n",
    "2. Some genres peformed better than others in the Box Office. I recommed that the movies produced by the Micorsoft studio, should fall under the following genres:\n",
    "\n",
    "    1. Drama.\n",
    "    2. Action.\n",
    "    3. Comedy.\n",
    "    4. Adventure.\n",
    "    5. Animation.\n",
    "    6. Horror.\n",
    "    7. Biography.\n",
    "\n",
    "3. During the analysis of the Box Office, I found out that some movie categories were more popular than others hence earned more revenue. It is recommended that the movies produced by Microsoft movie studio, should fall under the following ratings:\n",
    "    1. R.\n",
    "    2. PG-13.\n",
    "    3. PG.\n",
    "    4. TV-MA.\n",
    "    5. TV-14.\n",
    "    6. G.\n",
    " \n",
    "4. From the report, we can see that movies that used some languages were more common than others. I recommend that movies produced by Microsoft movie studio should use the following spoken languages:\n",
    "    1. English.\n",
    "    2. Japanese.\n",
    "    3. Spanish.\n",
    "    4. korean.\n",
    "    5. French.\n",
    " \n",
    "5. I also recommend that the Movie studio should choose the right movie director and a well known cast to tap into their fanbase.\n",
    "\n",
    "6. I recommend that the movie studio should be established in Hollywood, if possible. This is because Hollywood has the largest box office revenue.\n",
    "\n",
    "7. It is recommended that the Movie Studio should first release the movies in the Chinese cinema because they have the highest ticket sales in the industry. "
   ]
  },
  {
   "cell_type": "code",
   "execution_count": null,
   "id": "20da18a1",
   "metadata": {},
   "outputs": [],
   "source": []
  },
  {
   "cell_type": "code",
   "execution_count": null,
   "id": "94b5d7ca",
   "metadata": {},
   "outputs": [],
   "source": []
  }
 ],
 "metadata": {
  "kernelspec": {
   "display_name": "Python 3 (ipykernel)",
   "language": "python",
   "name": "python3"
  },
  "language_info": {
   "codemirror_mode": {
    "name": "ipython",
    "version": 3
   },
   "file_extension": ".py",
   "mimetype": "text/x-python",
   "name": "python",
   "nbconvert_exporter": "python",
   "pygments_lexer": "ipython3",
   "version": "3.10.9"
  }
 },
 "nbformat": 4,
 "nbformat_minor": 5
}
